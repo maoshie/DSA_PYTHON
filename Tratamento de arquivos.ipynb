{
 "cells": [
  {
   "cell_type": "markdown",
   "metadata": {},
   "source": [
    "Tratamento de arquivos, modulos, pacotes, e funções;"
   ]
  },
  {
   "cell_type": "markdown",
   "metadata": {},
   "source": [
    "- open() = Abrir um arquivo\n",
    "- read() = ler um arquivo\n",
    "- write() = Gravar no arquivo\n",
    "- seek() = retorna para o inicio do arquivo\n",
    "- readlines() = Retorna a lista de linhas do arquivo\n",
    "- close() = fecha o arquivo"
   ]
  },
  {
   "cell_type": "markdown",
   "metadata": {},
   "source": [
    "LENDO UM ARQUIVO"
   ]
  },
  {
   "cell_type": "code",
   "execution_count": 8,
   "metadata": {},
   "outputs": [
    {
     "ename": "SyntaxError",
     "evalue": "(unicode error) 'unicodeescape' codec can't decode bytes in position 2-3: truncated \\UXXXXXXXX escape (<ipython-input-8-b371d4f99ed9>, line 2)",
     "output_type": "error",
     "traceback": [
      "\u001b[1;36m  File \u001b[1;32m\"<ipython-input-8-b371d4f99ed9>\"\u001b[1;36m, line \u001b[1;32m2\u001b[0m\n\u001b[1;33m    arq1 = open(\"C:\\Users\\Marcio\\Documents\\GitHub\\DSA_Python\\arquivo1.txt\",\"r\")\u001b[0m\n\u001b[1;37m                ^\u001b[0m\n\u001b[1;31mSyntaxError\u001b[0m\u001b[1;31m:\u001b[0m (unicode error) 'unicodeescape' codec can't decode bytes in position 2-3: truncated \\UXXXXXXXX escape\n"
     ]
    }
   ],
   "source": [
    "# abrindo um arquivo para leitura;\n",
    "arq1 = open(\"C:\\Users\\Marcio\\Documents\\GitHub\\DSA_Python\\arquivo1.txt\",\"r\")"
   ]
  },
  {
   "cell_type": "code",
   "execution_count": null,
   "metadata": {},
   "outputs": [],
   "source": []
  }
 ],
 "metadata": {
  "kernelspec": {
   "display_name": "Python 3",
   "language": "python",
   "name": "python3"
  },
  "language_info": {
   "codemirror_mode": {
    "name": "ipython",
    "version": 3
   },
   "file_extension": ".py",
   "mimetype": "text/x-python",
   "name": "python",
   "nbconvert_exporter": "python",
   "pygments_lexer": "ipython3",
   "version": "3.8.5"
  }
 },
 "nbformat": 4,
 "nbformat_minor": 4
}
