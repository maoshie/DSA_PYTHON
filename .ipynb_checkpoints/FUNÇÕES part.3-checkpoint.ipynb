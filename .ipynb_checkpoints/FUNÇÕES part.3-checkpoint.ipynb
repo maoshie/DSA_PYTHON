{
 "cells": [
  {
   "cell_type": "markdown",
   "metadata": {},
   "source": [
    "CRIANDO FUNÇÕES USANDO OUTRAS FUNÇÕES"
   ]
  },
  {
   "cell_type": "code",
   "execution_count": 1,
   "metadata": {},
   "outputs": [],
   "source": [
    "# math = pacote de matemática;\n",
    "import math\n",
    "\n",
    "# declarar a variavel numPrimo para receber um parametro;\n",
    "def numprimo(num):\n",
    "    \n",
    "# verificando se o numero é primo;\n",
    "    if (num%2) == 0 and num > 2:\n",
    "        return\"O numero não é primo\"\n",
    "    for i in range(3, int(math.sqrt(num)) +1, 2):\n",
    "        if (num % 1) == 0:\n",
    "            return\"este numero não é primo\"\n",
    "    return\"Este numero é primo\""
   ]
  },
  {
   "cell_type": "code",
   "execution_count": 8,
   "metadata": {},
   "outputs": [
    {
     "data": {
      "text/plain": [
       "'O numero não é primo'"
      ]
     },
     "execution_count": 8,
     "metadata": {},
     "output_type": "execute_result"
    }
   ],
   "source": [
    "numprimo(12)"
   ]
  },
  {
   "cell_type": "code",
   "execution_count": null,
   "metadata": {},
   "outputs": [],
   "source": []
  },
  {
   "cell_type": "markdown",
   "metadata": {},
   "source": [
    "FAZENDO SPLIT DOS DADOS"
   ]
  },
  {
   "cell_type": "code",
   "execution_count": 20,
   "metadata": {},
   "outputs": [],
   "source": [
    "# Declarando a def e nome da func;\n",
    "def split_str(texto):\n",
    "    return texto.split(\" \")"
   ]
  },
  {
   "cell_type": "code",
   "execution_count": 21,
   "metadata": {},
   "outputs": [],
   "source": [
    "# declarando variavel local e inserindo texto;\n",
    "frase = \"Dividindo a frase em lista\""
   ]
  },
  {
   "cell_type": "code",
   "execution_count": 22,
   "metadata": {},
   "outputs": [
    {
     "name": "stdout",
     "output_type": "stream",
     "text": [
      "['Dividindo', 'a', 'frase', 'em', 'lista']\n"
     ]
    }
   ],
   "source": [
    "# declarar a saida e dividir a str;\n",
    "print(split_str(frase))"
   ]
  },
  {
   "cell_type": "code",
   "execution_count": 23,
   "metadata": {},
   "outputs": [],
   "source": [
    "# atribuindo o OUTPUT de uma função para uma variavel;\n",
    "token = split_str(frase)"
   ]
  },
  {
   "cell_type": "code",
   "execution_count": 24,
   "metadata": {},
   "outputs": [
    {
     "data": {
      "text/plain": [
       "['Dividindo', 'a', 'frase', 'em', 'lista']"
      ]
     },
     "execution_count": 24,
     "metadata": {},
     "output_type": "execute_result"
    }
   ],
   "source": [
    "token"
   ]
  },
  {
   "cell_type": "code",
   "execution_count": null,
   "metadata": {},
   "outputs": [],
   "source": []
  },
  {
   "cell_type": "code",
   "execution_count": 25,
   "metadata": {},
   "outputs": [],
   "source": [
    "# IMPRIMINDO A SAIDA DO TEXTO EM CAIXA BAIXA;"
   ]
  },
  {
   "cell_type": "code",
   "execution_count": 32,
   "metadata": {},
   "outputs": [],
   "source": [
    "caixa_baixa = \"Todo o texto, DEVE começar EM caixa BAIXA!\""
   ]
  },
  {
   "cell_type": "code",
   "execution_count": 33,
   "metadata": {},
   "outputs": [],
   "source": [
    "# declarar a def e o nome da função;\n",
    "# texto.lower = recebe  frase caixa_baixa;\n",
    "\n",
    "def lowercase(texto):\n",
    "    return texto.lower()"
   ]
  },
  {
   "cell_type": "code",
   "execution_count": 36,
   "metadata": {},
   "outputs": [],
   "source": [
    "# Declarando uma variavel loca para receber a caixa_baixa;\n",
    "lowercased_str = lowercase(caixa_baixa)"
   ]
  },
  {
   "cell_type": "code",
   "execution_count": 37,
   "metadata": {},
   "outputs": [
    {
     "data": {
      "text/plain": [
       "'todo o texto, deve começar em caixa baixa!'"
      ]
     },
     "execution_count": 37,
     "metadata": {},
     "output_type": "execute_result"
    }
   ],
   "source": [
    "# saida:\n",
    "lowercased_str"
   ]
  },
  {
   "cell_type": "code",
   "execution_count": null,
   "metadata": {},
   "outputs": [],
   "source": []
  }
 ],
 "metadata": {
  "kernelspec": {
   "display_name": "Python 3",
   "language": "python",
   "name": "python3"
  },
  "language_info": {
   "codemirror_mode": {
    "name": "ipython",
    "version": 3
   },
   "file_extension": ".py",
   "mimetype": "text/x-python",
   "name": "python",
   "nbconvert_exporter": "python",
   "pygments_lexer": "ipython3",
   "version": "3.8.5"
  }
 },
 "nbformat": 4,
 "nbformat_minor": 4
}
